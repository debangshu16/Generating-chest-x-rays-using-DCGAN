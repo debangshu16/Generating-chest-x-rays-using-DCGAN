{
 "cells": [
  {
   "cell_type": "code",
   "execution_count": 1,
   "metadata": {},
   "outputs": [
    {
     "name": "stderr",
     "output_type": "stream",
     "text": [
      "c:\\python35\\lib\\site-packages\\h5py\\__init__.py:36: FutureWarning: Conversion of the second argument of issubdtype from `float` to `np.floating` is deprecated. In future, it will be treated as `np.float64 == np.dtype(float).type`.\n",
      "  from ._conv import register_converters as _register_converters\n",
      "Using TensorFlow backend.\n"
     ]
    },
    {
     "name": "stdout",
     "output_type": "stream",
     "text": [
      "['generated_models/Generator_model_Atelectasis_4000']\n"
     ]
    }
   ],
   "source": [
    "import numpy as np\n",
    "import h5py\n",
    "from glob import glob\n",
    "from keras.models import load_model\n",
    "\n",
    "diseases = ['Atelectasis']\n",
    "def find_last_checkpoint(disease):\n",
    "    last_model_point =0\n",
    "    for f in (glob('generated_models/Generator_model_{}_*'.format(disease))):\n",
    "        file = f.split('/')[-1]\n",
    "        checkpoint_no = int(file.split('_')[-1])\n",
    "        if checkpoint_no > last_model_point:\n",
    "            last_model_point = checkpoint_no\n",
    "    \n",
    "    return int(last_model_point)\n",
    "\n",
    "generator_paths = []\n",
    "for disease in diseases:\n",
    "    generator_path = 'generated_models/Generator_model_{}_{}'.format(disease,find_last_checkpoint(disease))\n",
    "    generator_paths.append(generator_path)\n",
    "    \n",
    "print (generator_paths)\n"
   ]
  },
  {
   "cell_type": "code",
   "execution_count": 2,
   "metadata": {},
   "outputs": [
    {
     "name": "stdout",
     "output_type": "stream",
     "text": [
      "(20000, 128, 128, 1)\n"
     ]
    }
   ],
   "source": [
    "data = h5py.File('chest_xray.h5','a') \n",
    "        \n",
    "print (data['images'].shape)\n"
   ]
  },
  {
   "cell_type": "code",
   "execution_count": 19,
   "metadata": {},
   "outputs": [
    {
     "name": "stderr",
     "output_type": "stream",
     "text": [
      "c:\\python35\\lib\\site-packages\\keras\\models.py:255: UserWarning: No training configuration found in save file: the model was *not* compiled. Compile it manually.\n",
      "  warnings.warn('No training configuration found in save file: '\n"
     ]
    },
    {
     "name": "stdout",
     "output_type": "stream",
     "text": [
      "(200, 128, 128, 1)\n",
      "(20200, 128, 128, 1)\n",
      "Atelectasis\n"
     ]
    }
   ],
   "source": [
    "disease_vec_labels = ['Atelectasis','Cardiomegaly','Consolidation','Edema','Effusion','Emphysema','Fibrosis',\n",
    " 'Hernia','Infiltration','Mass','Nodule','Pleural_Thickening','Pneumonia','Pneumothorax']\n",
    "number_of_images = 200\n",
    "final_data = {}\n",
    "\n",
    "for generator_path in generator_paths:\n",
    "    generator = load_model(generator_path)\n",
    "    noise = np.random.normal(0,1,(number_of_images,100))\n",
    "    generated_img = generator.predict(noise)\n",
    "    generated_img = 0.5* generated_img + 0.5\n",
    "    print (generated_img.shape)\n",
    "    \n",
    "    final_data['images']=np.array(data.get('images'))\n",
    "    final_data['images']=np.append(final_data['images'],generated_img,axis=0)\n",
    "    print (final_data['images'].shape)\n",
    "    disease_generator = (generator_path.split('/')[-1]).split('_')[-2]\n",
    "    print (disease_generator)\n",
    "    \n",
    "    for disease in disease_vec_labels:\n",
    "        if disease == disease_generator:\n",
    "            final_data[disease] = np.append(np.array(data.get(disease)), [1] * number_of_images)\n",
    "        else:\n",
    "            final_data[disease] = np.append(np.array(data.get(disease)), [0] * number_of_images)\n",
    "    \n"
   ]
  },
  {
   "cell_type": "code",
   "execution_count": 20,
   "metadata": {},
   "outputs": [
    {
     "name": "stdout",
     "output_type": "stream",
     "text": [
      "Pleural_Thickening (20200,)\n",
      "Edema (20200,)\n",
      "Cardiomegaly (20200,)\n",
      "Infiltration (20200,)\n",
      "images (20200, 128, 128, 1)\n",
      "Consolidation (20200,)\n",
      "Mass (20200,)\n",
      "Effusion (20200,)\n",
      "Pneumothorax (20200,)\n",
      "Fibrosis (20200,)\n",
      "Pneumonia (20200,)\n",
      "Hernia (20200,)\n",
      "Nodule (20200,)\n",
      "Emphysema (20200,)\n",
      "Atelectasis (20200,)\n"
     ]
    }
   ],
   "source": [
    "for key in final_data.keys():\n",
    "    print (key,final_data[key].shape)"
   ]
  },
  {
   "cell_type": "code",
   "execution_count": 34,
   "metadata": {},
   "outputs": [],
   "source": [
    "data.close()\n",
    "from tqdm import tqdm\n",
    "\n",
    "def write_dict_as_hdf(out_path,out_dict,compression='gzip'):\n",
    "    with h5py.File(out_path,'w') as h:\n",
    "        for k, v in out_dict.items():\n",
    "            s_data = np.stack(v,0)\n",
    "            h.create_dataset(k, data = s_data,compression = compression)\n",
    "                \n",
    "                    \n",
    "               \n",
    "            "
   ]
  },
  {
   "cell_type": "code",
   "execution_count": 35,
   "metadata": {},
   "outputs": [],
   "source": [
    "write_dict_as_hdf('final_xray.h5',final_data,compression=None)"
   ]
  },
  {
   "cell_type": "code",
   "execution_count": 36,
   "metadata": {},
   "outputs": [
    {
     "name": "stdout",
     "output_type": "stream",
     "text": [
      "Atelectasis (20200,)\n",
      "Cardiomegaly (20200,)\n",
      "Consolidation (20200,)\n",
      "Edema (20200,)\n",
      "Effusion (20200,)\n",
      "Emphysema (20200,)\n",
      "Fibrosis (20200,)\n",
      "Hernia (20200,)\n",
      "Infiltration (20200,)\n",
      "Mass (20200,)\n",
      "Nodule (20200,)\n",
      "Pleural_Thickening (20200,)\n",
      "Pneumonia (20200,)\n",
      "Pneumothorax (20200,)\n",
      "images (20200, 128, 128, 1)\n"
     ]
    }
   ],
   "source": [
    "with h5py.File('final_xray.h5','r') as h_data:\n",
    "    for key in h_data.keys():\n",
    "        print (key,h_data[key].shape)"
   ]
  },
  {
   "cell_type": "code",
   "execution_count": null,
   "metadata": {},
   "outputs": [],
   "source": []
  }
 ],
 "metadata": {
  "kernelspec": {
   "display_name": "Python 3",
   "language": "python",
   "name": "python3"
  },
  "language_info": {
   "codemirror_mode": {
    "name": "ipython",
    "version": 3
   },
   "file_extension": ".py",
   "mimetype": "text/x-python",
   "name": "python",
   "nbconvert_exporter": "python",
   "pygments_lexer": "ipython3",
   "version": "3.5.4rc1"
  }
 },
 "nbformat": 4,
 "nbformat_minor": 2
}
